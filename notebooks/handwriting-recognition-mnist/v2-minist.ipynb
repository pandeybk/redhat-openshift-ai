{
 "cells": [
  {
   "cell_type": "code",
   "execution_count": 3,
   "id": "5b3a5501-625f-4c5b-9825-ce3190f9c730",
   "metadata": {},
   "outputs": [
    {
     "name": "stdout",
     "output_type": "stream",
     "text": [
      "Epoch 1/10\n",
      "469/469 [==============================] - 4s 8ms/step - loss: 0.5347 - accuracy: 0.9199\n",
      "Epoch 2/10\n",
      "469/469 [==============================] - 4s 9ms/step - loss: 0.2447 - accuracy: 0.9570\n",
      "Epoch 3/10\n",
      "469/469 [==============================] - 4s 8ms/step - loss: 0.1964 - accuracy: 0.9656\n",
      "Epoch 4/10\n",
      "469/469 [==============================] - 3s 7ms/step - loss: 0.1775 - accuracy: 0.9684\n",
      "Epoch 5/10\n",
      "469/469 [==============================] - 3s 7ms/step - loss: 0.1643 - accuracy: 0.9720\n",
      "Epoch 6/10\n",
      "469/469 [==============================] - 3s 7ms/step - loss: 0.1571 - accuracy: 0.9728\n",
      "Epoch 7/10\n",
      "469/469 [==============================] - 3s 7ms/step - loss: 0.1518 - accuracy: 0.9730\n",
      "Epoch 8/10\n",
      "469/469 [==============================] - 3s 7ms/step - loss: 0.1473 - accuracy: 0.9748\n",
      "Epoch 9/10\n",
      "469/469 [==============================] - 3s 7ms/step - loss: 0.1430 - accuracy: 0.9753\n",
      "Epoch 10/10\n",
      "469/469 [==============================] - 4s 8ms/step - loss: 0.1397 - accuracy: 0.9758\n",
      "313/313 [==============================] - 1s 2ms/step - loss: 0.1469 - accuracy: 0.9732\n",
      "test_loss: 0.14694328606128693\n",
      "test_accuracy: 0.9732000231742859\n"
     ]
    }
   ],
   "source": [
    "from keras.datasets import mnist\n",
    "from keras.models import Sequential\n",
    "from keras.layers import Dense \n",
    "from keras import regularizers\n",
    "\n",
    "(train_images, train_labels), (test_images, test_labels) = mnist.load_data()\n",
    "\n",
    "model = Sequential()\n",
    "model.add(Dense(512, activation='relu', input_shape=(28 * 28,), kernel_regularizer=regularizers.l2(0.001)))\n",
    "model.add(Dense(10, activation='softmax'))\n",
    "\n",
    "model.compile(optimizer='rmsprop', \n",
    "              loss='sparse_categorical_crossentropy',\n",
    "              metrics=['accuracy'])\n",
    "\n",
    "train_images = train_images.reshape((60000, 28*28))\n",
    "train_images = train_images.astype('float32') / 255\n",
    "\n",
    "model.fit(train_images, train_labels, epochs=10, batch_size=128)\n",
    "\n",
    "test_images = test_images.reshape((10000, 28*28))\n",
    "\n",
    "test_images = test_images.astype('float')/ 255\n",
    "\n",
    "test_loss, test_accuracy = model.evaluate(test_images, test_labels)\n",
    "\n",
    "print(\"test_loss:\", test_loss)\n",
    "print(\"test_accuracy:\", test_accuracy)\n",
    "\n",
    "model.save('model/mnist_v2.h5')"
   ]
  },
  {
   "cell_type": "code",
   "execution_count": 19,
   "id": "99c4e00b-a8e2-47a7-a83a-646bf35699d5",
   "metadata": {},
   "outputs": [
    {
     "name": "stdout",
     "output_type": "stream",
     "text": [
      "1/1 [==============================] - 0s 126ms/step\n",
      "File: data/zero.JPG, Predicted Class: 0\n",
      "File: data/two.JPG, Predicted Class: 2\n",
      "File: data/one.JPG, Predicted Class: 8\n",
      "File: data/nine.JPG, Predicted Class: 2\n",
      "File: data/five.JPG, Predicted Class: 5\n",
      "File: data/4.JPG, Predicted Class: 8\n",
      "File: data/1.JPG, Predicted Class: 8\n",
      "File: data/5.JPG, Predicted Class: 5\n",
      "File: data/eight.JPG, Predicted Class: 8\n",
      "File: data/six.JPG, Predicted Class: 6\n",
      "File: data/three.JPG, Predicted Class: 2\n",
      "File: data/8.JPG, Predicted Class: 8\n",
      "File: data/2.JPG, Predicted Class: 2\n",
      "File: data/four.JPG, Predicted Class: 8\n",
      "File: data/7.JPG, Predicted Class: 7\n",
      "File: data/6.JPG, Predicted Class: 6\n",
      "File: data/3.JPG, Predicted Class: 2\n",
      "File: data/9.JPG, Predicted Class: 2\n",
      "File: data/0.JPG, Predicted Class: 0\n",
      "File: data/seven.JPG, Predicted Class: 7\n"
     ]
    }
   ],
   "source": [
    "import numpy as np\n",
    "from tensorflow.keras.preprocessing.image import load_img\n",
    "import glob\n",
    "from keras.models import load_model\n",
    "\n",
    "\n",
    "model = load_model('model/mnist_v2.h5')\n",
    "\n",
    "def preprocess_image(image_path):\n",
    "    img = load_img(image_path, target_size=(28, 28), color_mode=\"grayscale\")\n",
    "    img_array = np.array(img).reshape(-1, 28 * 28) \n",
    "    img_array = img_array.astype('float32') / 255.0\n",
    "    return img_array\n",
    "\n",
    "\n",
    "# Preprocess all the images\n",
    "image_files = glob.glob('data/*.JPG')  \n",
    "images = np.vstack([preprocess_image(img_file) for img_file in image_files])\n",
    "\n",
    "predictions = model.predict(images)\n",
    "predicted_classes = np.argmax(predictions, axis=1)\n",
    "\n",
    "# Print the filename and corresponding predicted class for each image\n",
    "for img_file, pred_class in zip(image_files, predicted_classes):\n",
    "    print(f\"File: {img_file}, Predicted Class: {pred_class}\")"
   ]
  },
  {
   "cell_type": "code",
   "execution_count": null,
   "id": "8c67bcdf-8e3a-42a9-9a61-96b3ca52b291",
   "metadata": {},
   "outputs": [],
   "source": []
  }
 ],
 "metadata": {
  "kernelspec": {
   "display_name": "Python 3.9.16",
   "language": "python",
   "name": "python3"
  },
  "language_info": {
   "codemirror_mode": {
    "name": "ipython",
    "version": 3
   },
   "file_extension": ".py",
   "mimetype": "text/x-python",
   "name": "python",
   "nbconvert_exporter": "python",
   "pygments_lexer": "ipython3",
   "version": "3.9.16"
  }
 },
 "nbformat": 4,
 "nbformat_minor": 5
}
